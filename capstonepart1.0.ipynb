/c/Users/Alyssa/Desktop/capstonepart1.0.ipynb
