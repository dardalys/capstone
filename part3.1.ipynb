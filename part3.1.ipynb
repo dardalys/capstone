{
 "cells": [
  {
   "cell_type": "markdown",
   "metadata": {},
   "source": [
    "Data Description: \n",
    "\n",
    "The data that will be used for this project is from this wikipedia page: https://en.wikipedia.org/wiki/List_of_postal_codes_of_Canada:_M\n",
    "\n",
    "Using lxml parsing techniques, information about the neighbourhood, borough and postal code will be scraped and utilized to assist in the exploration of vegan restaurants in the Toronto neighbourhoods. Wikipedia has pulled the respective postal codes from the Canada Post website. \n"
   ]
  },
  {
   "cell_type": "markdown",
   "metadata": {},
   "source": [
    "Firstly, the data regarding Toronto Neighbourhoods, Boroughs and Postal Code will be scraped from the Wikipedia page. This information will then be added to a new pandas data frame containing three column headings \"Postcode, Boroughs, Neighbourhoods\".  \n",
    "\n",
    "A Postcode is the postal code of the particular Neighbourhood and will assist in dividing the Neighbourhoods into the appropriate Boroughs.\n",
    "\n",
    "A Borough is considered an administrative division of a municipality.\n",
    "\n",
    "A Neighbourhood is a geographically localized community within a municipality. \n",
    "\n",
    "All data are type objects. \n",
    "Shape: 103 rows, 3 columns\n",
    "\n",
    "The data will then be cleansed of any missing or \"not assigned\" Boroughs. These \"not assigned\" Boroughs will be replaced with the appropriate Neighbourhood title. "
   ]
  },
  {
   "cell_type": "markdown",
   "metadata": {},
   "source": [
    "Secondly, the logitude and latitue of the respective Neighbourhoods will be added to the data frame using a Geocoder package. \n",
    "\n",
    "Shape: 103 rows, 5 columns"
   ]
  },
  {
   "cell_type": "markdown",
   "metadata": {},
   "source": [
    "Thirdly, data visualization of the Neighbourhoods will be completed by using geopy to display the neighbourhoods on a map."
   ]
  },
  {
   "cell_type": "markdown",
   "metadata": {},
   "source": [
    "Fourth, narrow down Borough to explore the downtown area only. Using Forsquare, isolate the vegan restuarants in the downtown neighbourhoods and display on map for data visualization. "
   ]
  }
 ],
 "metadata": {
  "kernelspec": {
   "display_name": "Python 3",
   "language": "python",
   "name": "python3"
  },
  "language_info": {
   "codemirror_mode": {
    "name": "ipython",
    "version": 3
   },
   "file_extension": ".py",
   "mimetype": "text/x-python",
   "name": "python",
   "nbconvert_exporter": "python",
   "pygments_lexer": "ipython3",
   "version": "3.6.8"
  }
 },
 "nbformat": 4,
 "nbformat_minor": 2
}
