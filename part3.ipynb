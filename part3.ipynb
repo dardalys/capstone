{
 "cells": [
  {
   "cell_type": "markdown",
   "metadata": {},
   "source": [
    "This is the third part of the IBM Capstone Project, where we'll be exploring vegan restaurant prospects in the downtown Toronto region. The purpose of this exploration will allow users to determine the saturation levels of vegan restaurants in this particular area and look for gaps within the region."
   ]
  },
  {
   "cell_type": "markdown",
   "metadata": {},
   "source": [
    "Problem & Background: \n",
    "\n",
    "Veganism is practice of abstaining from consuming animal products. This is not only limitted to the consumption of food, but is an overall lifestyle, where the consumer even abstains from wearing or purchasing products made from animal materials such as leather, down etc. Some vegans are also concerned with the environmental impact that commercial farming has on our water, air and energy consumptions. \n",
    "\n",
    "For these reasons, this had led to a wide adoption of the practice mainly within the food industry. It is extremely common to see vegan restaurants in mainstream cities like Toronto, Ontario. As you can see, there is a huge market for the vegan restaurant industry and the value proposition for business owners is the large uptake and demand for vegan food.\n",
    "\n",
    "However, one of the major issue for this unique cuisine in the potential for over-saturation of these restaurants, increasing competition and reducing market share. If a new business owner wants to open a vegan restaurant where should they set up shop? This is an important question and one that can be explored using Toronto data and Foursquare. Foursquare will allow us to explore current vegan restaurants in the downtown area, show ratings and indicate where potential market needs are.  \n"
   ]
  },
  {
   "cell_type": "markdown",
   "metadata": {},
   "source": [
    "\n"
   ]
  },
  {
   "cell_type": "code",
   "execution_count": null,
   "metadata": {},
   "outputs": [],
   "source": []
  }
 ],
 "metadata": {
  "kernelspec": {
   "display_name": "Python 3",
   "language": "python",
   "name": "python3"
  },
  "language_info": {
   "codemirror_mode": {
    "name": "ipython",
    "version": 3
   },
   "file_extension": ".py",
   "mimetype": "text/x-python",
   "name": "python",
   "nbconvert_exporter": "python",
   "pygments_lexer": "ipython3",
   "version": "3.6.8"
  }
 },
 "nbformat": 4,
 "nbformat_minor": 2
}
